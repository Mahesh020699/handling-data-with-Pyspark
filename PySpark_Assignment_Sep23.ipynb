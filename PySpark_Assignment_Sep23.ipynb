{
  "cells": [
    {
      "cell_type": "markdown",
      "metadata": {
        "id": "ViQdeQ5m1E2Z"
      },
      "source": [
        "Download the dataset from this [Kaggle](https://www.kaggle.com/dhruvildave/netflix-top-10-tv-shows-and-films) page. A copy of the `all_weeks_countries.csv` file is also available on the canvas page for this assignment.\n",
        "\n",
        "Your task is to load in the data and produce a number of \"downstream\" data products and plots as described below.\n",
        "\n",
        "The PySpark installation and setup is provided below for conveinience.\n",
        "\n",
        "IMPORTANT: DO NOT EDIT OR REMOVE THE COMMENT TAGS IN THE CODE CELLS"
      ]
    },
    {
      "cell_type": "code",
      "execution_count": 2,
      "metadata": {
        "id": "5lb-Z7ZM8O3s"
      },
      "outputs": [],
      "source": [
        "# CodeGrade Tag Init1\n",
        "\n",
        "# Apache Spark uses Java, so first we must install that\n",
        "!apt-get install openjdk-8-jdk-headless -qq > /dev/null"
      ]
    },
    {
      "cell_type": "code",
      "execution_count": 3,
      "metadata": {
        "id": "ixa72o938SKP",
        "colab": {
          "base_uri": "https://localhost:8080/"
        },
        "outputId": "cef8de8b-93ed-4650-b7c2-9587ea8ad6ba"
      },
      "outputs": [
        {
          "output_type": "stream",
          "name": "stdout",
          "text": [
            "Mounted at /content/drive\n"
          ]
        }
      ],
      "source": [
        "# CodeGrade Tag Init2\n",
        "# Mount Google Drive and unpack Spark\n",
        "from google.colab import drive\n",
        "drive.mount('/content/drive')\n",
        "!tar xzf /content/drive/MyDrive/spark-3.3.0-bin-hadoop3.tgz"
      ]
    },
    {
      "cell_type": "code",
      "execution_count": 4,
      "metadata": {
        "id": "yWT7_XiQ8V6u"
      },
      "outputs": [],
      "source": [
        "# CodeGrade Tag Init3\n",
        "# Set up environment variables\n",
        "import os\n",
        "os.environ[\"JAVA_HOME\"] = \"/usr/lib/jvm/java-8-openjdk-amd64\"\n",
        "os.environ[\"SPARK_HOME\"] = \"/content/spark-3.3.0-bin-hadoop3\""
      ]
    },
    {
      "cell_type": "code",
      "execution_count": 5,
      "metadata": {
        "id": "UPSvq-aj8Z_k"
      },
      "outputs": [],
      "source": [
        "# CodeGrade Tag Init4\n",
        "# Install findspark, which helps python locate the pyspark module files\n",
        "!pip install -q findspark\n",
        "import findspark\n",
        "findspark.init()"
      ]
    },
    {
      "cell_type": "code",
      "execution_count": 6,
      "metadata": {
        "id": "kXT8Q_IO8cVe"
      },
      "outputs": [],
      "source": [
        "# Finally, we initialse a \"SparkSession\", which handles the computations\n",
        "from pyspark.sql import SparkSession\n",
        "spark = SparkSession.builder\\\n",
        "        .master(\"local\")\\\n",
        "        .appName(\"Colab\")\\\n",
        "        .config('spark.ui.port', '4050')\\\n",
        "        .getOrCreate()"
      ]
    },
    {
      "cell_type": "code",
      "execution_count": 7,
      "metadata": {
        "id": "nY0UxWbdDcag"
      },
      "outputs": [],
      "source": [
        "# Load the all_weeks_countries.csv into your Colab Notebook as a DataFrame.\n",
        "\n",
        "netflixcsvpath = \"file:///content/drive/MyDrive/all-weeks-countries.csv\"\n",
        "\n",
        "# Data is loaded with header: True and an inferred schema\n",
        "netflixDF = (spark\n",
        "           .read\n",
        "           .option('header', 'True')\n",
        "           .option('inferSchema', 'True')\n",
        "           .csv(netflixcsvpath)\n",
        "          )"
      ]
    },
    {
      "cell_type": "code",
      "execution_count": 8,
      "metadata": {
        "id": "adZdlbyGL7Mj"
      },
      "outputs": [],
      "source": [
        "\n",
        "# pyspark.sql.functions countains all the transformations and actions you will\n",
        "# need\n",
        "from pyspark.sql import functions as F"
      ]
    },
    {
      "cell_type": "markdown",
      "metadata": {
        "id": "yfW6RnY_GZpE"
      },
     
    {
      "cell_type": "code",
      "execution_count": 9,
      "metadata": {
        "id": "I7PS8iZgqwjt",
        "colab": {
          "base_uri": "https://localhost:8080/"
        },
        "outputId": "73590753-ff79-4fcc-a1ad-a316c7d73d8d"
      },
      "outputs": [
        {
          "output_type": "stream",
          "name": "stdout",
          "text": [
            "+------------+------------+-------------------+--------+-----------+--------------------+--------------------+--------------------------+\n",
            "|country_name|country_iso2|               week|category|weekly_rank|          show_title|        season_title|cumulative_weeks_in_top_10|\n",
            "+------------+------------+-------------------+--------+-----------+--------------------+--------------------+--------------------------+\n",
            "|   Argentina|          AR|2022-08-21 00:00:00|   Films|          1|      Look Both Ways|                null|                         1|\n",
            "|   Argentina|          AR|2022-08-21 00:00:00|   Films|          2|           Day Shift|                null|                         2|\n",
            "|   Argentina|          AR|2022-08-21 00:00:00|   Films|          3|Bank Robbers: The...|                null|                         2|\n",
            "|   Argentina|          AR|2022-08-21 00:00:00|   Films|          4|   The Next 365 Days|                null|                         1|\n",
            "|   Argentina|          AR|2022-08-21 00:00:00|   Films|          5|The Angry Birds M...|                null|                         1|\n",
            "|   Argentina|          AR|2022-08-21 00:00:00|   Films|          6|       Purple Hearts|                null|                         4|\n",
            "|   Argentina|          AR|2022-08-21 00:00:00|   Films|          7|      River Runs Red|                null|                         1|\n",
            "|   Argentina|          AR|2022-08-21 00:00:00|   Films|          8|                1917|                null|                         2|\n",
            "|   Argentina|          AR|2022-08-21 00:00:00|   Films|          9|  Code Name: Emperor|                null|                         2|\n",
            "|   Argentina|          AR|2022-08-21 00:00:00|   Films|         10|           Royalteen|                null|                         1|\n",
            "|   Argentina|          AR|2022-08-21 00:00:00|      TV|          1| Pasión de Gavilanes|Pasión de Gavilan...|                         5|\n",
            "|   Argentina|          AR|2022-08-21 00:00:00|      TV|          2|        Another Self|Another Self: Sea...|                         4|\n",
            "|   Argentina|          AR|2022-08-21 00:00:00|      TV|          3| Pasión de Gavilanes|Pasión de Gavilan...|                        58|\n",
            "|   Argentina|          AR|2022-08-21 00:00:00|      TV|          4|            Manifest|  Manifest: Season 1|                         6|\n",
            "|   Argentina|          AR|2022-08-21 00:00:00|      TV|          5|         The Sandman|The Sandman: Seas...|                         3|\n",
            "|   Argentina|          AR|2022-08-21 00:00:00|      TV|          6|Extraordinary Att...|Extraordinary Att...|                         2|\n",
            "|   Argentina|          AR|2022-08-21 00:00:00|      TV|          7|           High Heat| High Heat: Season 1|                         1|\n",
            "|   Argentina|          AR|2022-08-21 00:00:00|      TV|          8|            Manifest|  Manifest: Season 2|                         5|\n",
            "|   Argentina|          AR|2022-08-21 00:00:00|      TV|          9|            Manifest|  Manifest: Season 3|                         4|\n",
            "|   Argentina|          AR|2022-08-21 00:00:00|      TV|         10|   Never Have I Ever|Never Have I Ever...|                         2|\n",
            "+------------+------------+-------------------+--------+-----------+--------------------+--------------------+--------------------------+\n",
            "only showing top 20 rows\n",
            "\n",
            "root\n",
            " |-- country_name: string (nullable = true)\n",
            " |-- country_iso2: string (nullable = true)\n",
            " |-- week: timestamp (nullable = true)\n",
            " |-- category: string (nullable = true)\n",
            " |-- weekly_rank: integer (nullable = true)\n",
            " |-- show_title: string (nullable = true)\n",
            " |-- season_title: string (nullable = true)\n",
            " |-- cumulative_weeks_in_top_10: integer (nullable = true)\n",
            "\n"
          ]
        }
      ],
      "source": [
        "# CodeGrade Tag Ex1a\n",
        "\n",
        "### Display the table and its schema\n",
        "netflixDF.show()\n",
        "netflixDF.printSchema()"
      ]
    },
    {
      "cell_type": "code",
      "execution_count": 10,
      "metadata": {
        "id": "qfke8sGRN5ns",
        "colab": {
          "base_uri": "https://localhost:8080/"
        },
        "outputId": "8b128bd3-5ec2-48d9-e943-c74cc4a6df84"
      },
      "outputs": [
        {
          "output_type": "stream",
          "name": "stdout",
          "text": [
            "+------------+------------+-------------------+--------+-----------+--------------------+------------+--------------------------+\n",
            "|country_name|country_iso2|               week|category|weekly_rank|          show_title|season_title|cumulative_weeks_in_top_10|\n",
            "+------------+------------+-------------------+--------+-----------+--------------------+------------+--------------------------+\n",
            "|   Argentina|          AR|2022-08-21 00:00:00|   Films|          1|      Look Both Ways|        null|                         1|\n",
            "|   Argentina|          AR|2022-08-21 00:00:00|   Films|          2|           Day Shift|        null|                         2|\n",
            "|   Argentina|          AR|2022-08-21 00:00:00|   Films|          3|Bank Robbers: The...|        null|                         2|\n",
            "|   Argentina|          AR|2022-08-21 00:00:00|   Films|          4|   The Next 365 Days|        null|                         1|\n",
            "|   Argentina|          AR|2022-08-21 00:00:00|   Films|          5|The Angry Birds M...|        null|                         1|\n",
            "|   Argentina|          AR|2022-08-21 00:00:00|   Films|          6|       Purple Hearts|        null|                         4|\n",
            "|   Argentina|          AR|2022-08-21 00:00:00|   Films|          7|      River Runs Red|        null|                         1|\n",
            "|   Argentina|          AR|2022-08-21 00:00:00|   Films|          8|                1917|        null|                         2|\n",
            "|   Argentina|          AR|2022-08-21 00:00:00|   Films|          9|  Code Name: Emperor|        null|                         2|\n",
            "|   Argentina|          AR|2022-08-21 00:00:00|   Films|         10|           Royalteen|        null|                         1|\n",
            "|   Argentina|          AR|2022-08-14 00:00:00|   Films|          1|Bank Robbers: The...|        null|                         1|\n",
            "|   Argentina|          AR|2022-08-14 00:00:00|   Films|          2|       Purple Hearts|        null|                         3|\n",
            "|   Argentina|          AR|2022-08-14 00:00:00|   Films|          3|                1917|        null|                         1|\n",
            "|   Argentina|          AR|2022-08-14 00:00:00|   Films|          4|           Day Shift|        null|                         1|\n",
            "|   Argentina|          AR|2022-08-14 00:00:00|   Films|          5|  Code Name: Emperor|        null|                         1|\n",
            "|   Argentina|          AR|2022-08-14 00:00:00|   Films|          6|              Carter|        null|                         2|\n",
            "|   Argentina|          AR|2022-08-14 00:00:00|   Films|          7|          Recurrence|        null|                         3|\n",
            "|   Argentina|          AR|2022-08-14 00:00:00|   Films|          8|      Wedding Season|        null|                         2|\n",
            "|   Argentina|          AR|2022-08-14 00:00:00|   Films|          9|        Dreamkatcher|        null|                         1|\n",
            "|   Argentina|          AR|2022-08-14 00:00:00|   Films|         10|        The Gray Man|        null|                         4|\n",
            "+------------+------------+-------------------+--------+-----------+--------------------+------------+--------------------------+\n",
            "only showing top 20 rows\n",
            "\n",
            "+------------+------------+-------------------+--------+-----------+--------------------+--------------------+--------------------------+\n",
            "|country_name|country_iso2|               week|category|weekly_rank|          show_title|        season_title|cumulative_weeks_in_top_10|\n",
            "+------------+------------+-------------------+--------+-----------+--------------------+--------------------+--------------------------+\n",
            "|   Argentina|          AR|2022-08-21 00:00:00|      TV|          1| Pasión de Gavilanes|Pasión de Gavilan...|                         5|\n",
            "|   Argentina|          AR|2022-08-21 00:00:00|      TV|          2|        Another Self|Another Self: Sea...|                         4|\n",
            "|   Argentina|          AR|2022-08-21 00:00:00|      TV|          3| Pasión de Gavilanes|Pasión de Gavilan...|                        58|\n",
            "|   Argentina|          AR|2022-08-21 00:00:00|      TV|          4|            Manifest|  Manifest: Season 1|                         6|\n",
            "|   Argentina|          AR|2022-08-21 00:00:00|      TV|          5|         The Sandman|The Sandman: Seas...|                         3|\n",
            "|   Argentina|          AR|2022-08-21 00:00:00|      TV|          6|Extraordinary Att...|Extraordinary Att...|                         2|\n",
            "|   Argentina|          AR|2022-08-21 00:00:00|      TV|          7|           High Heat| High Heat: Season 1|                         1|\n",
            "|   Argentina|          AR|2022-08-21 00:00:00|      TV|          8|            Manifest|  Manifest: Season 2|                         5|\n",
            "|   Argentina|          AR|2022-08-21 00:00:00|      TV|          9|            Manifest|  Manifest: Season 3|                         4|\n",
            "|   Argentina|          AR|2022-08-21 00:00:00|      TV|         10|   Never Have I Ever|Never Have I Ever...|                         2|\n",
            "|   Argentina|          AR|2022-08-14 00:00:00|      TV|          1| Pasión de Gavilanes|Pasión de Gavilan...|                         4|\n",
            "|   Argentina|          AR|2022-08-14 00:00:00|      TV|          2|        Another Self|Another Self: Sea...|                         3|\n",
            "|   Argentina|          AR|2022-08-14 00:00:00|      TV|          3|         The Sandman|The Sandman: Seas...|                         2|\n",
            "|   Argentina|          AR|2022-08-14 00:00:00|      TV|          4| Pasión de Gavilanes|Pasión de Gavilan...|                        57|\n",
            "|   Argentina|          AR|2022-08-14 00:00:00|      TV|          5|            Manifest|  Manifest: Season 1|                         5|\n",
            "|   Argentina|          AR|2022-08-14 00:00:00|      TV|          6|Extraordinary Att...|Extraordinary Att...|                         1|\n",
            "|   Argentina|          AR|2022-08-14 00:00:00|      TV|          7|                Alba|      Alba: Season 1|                         5|\n",
            "|   Argentina|          AR|2022-08-14 00:00:00|      TV|          8|            Manifest|  Manifest: Season 2|                         4|\n",
            "|   Argentina|          AR|2022-08-14 00:00:00|      TV|          9|            Manifest|  Manifest: Season 3|                         3|\n",
            "|   Argentina|          AR|2022-08-14 00:00:00|      TV|         10|   Never Have I Ever|Never Have I Ever...|                         1|\n",
            "+------------+------------+-------------------+--------+-----------+--------------------+--------------------+--------------------------+\n",
            "only showing top 20 rows\n",
            "\n"
          ]
        }
      ],
      "source": [
        "# CodeGrade Tag Ex1b\n",
        "\n",
        "### Seperate the data into two DataFrames for Films and TV\n",
        "### Call the dataframes tvDF and filmsDF\n",
        "filmsDF = netflixDF.filter(netflixDF.category == 'Films')\n",
        "tvDF = netflixDF.filter(netflixDF.category == 'TV')\n",
        "\n",
        "\n",
        "filmsDF.show()\n",
        "tvDF.show()"
      ]
    },
    {
      "cell_type": "code",
      "execution_count": 11,
      "metadata": {
        "id": "X7JsDYkQN7Zw",
        "colab": {
          "base_uri": "https://localhost:8080/"
        },
        "outputId": "b178171b-0de1-45c8-aab7-6aa40ff53e70"
      },
      "outputs": [
        {
          "output_type": "stream",
          "name": "stdout",
          "text": [
            "+------------+------------+-------------------+--------+-----------+--------------------+--------------------------+\n",
            "|country_name|country_iso2|               week|category|weekly_rank|          show_title|cumulative_weeks_in_top_10|\n",
            "+------------+------------+-------------------+--------+-----------+--------------------+--------------------------+\n",
            "|   Argentina|          AR|2022-08-21 00:00:00|   Films|          1|      Look Both Ways|                         1|\n",
            "|   Argentina|          AR|2022-08-21 00:00:00|   Films|          2|           Day Shift|                         2|\n",
            "|   Argentina|          AR|2022-08-21 00:00:00|   Films|          3|Bank Robbers: The...|                         2|\n",
            "|   Argentina|          AR|2022-08-21 00:00:00|   Films|          4|   The Next 365 Days|                         1|\n",
            "|   Argentina|          AR|2022-08-21 00:00:00|   Films|          5|The Angry Birds M...|                         1|\n",
            "|   Argentina|          AR|2022-08-21 00:00:00|   Films|          6|       Purple Hearts|                         4|\n",
            "|   Argentina|          AR|2022-08-21 00:00:00|   Films|          7|      River Runs Red|                         1|\n",
            "|   Argentina|          AR|2022-08-21 00:00:00|   Films|          8|                1917|                         2|\n",
            "|   Argentina|          AR|2022-08-21 00:00:00|   Films|          9|  Code Name: Emperor|                         2|\n",
            "|   Argentina|          AR|2022-08-21 00:00:00|   Films|         10|           Royalteen|                         1|\n",
            "|   Argentina|          AR|2022-08-14 00:00:00|   Films|          1|Bank Robbers: The...|                         1|\n",
            "|   Argentina|          AR|2022-08-14 00:00:00|   Films|          2|       Purple Hearts|                         3|\n",
            "|   Argentina|          AR|2022-08-14 00:00:00|   Films|          3|                1917|                         1|\n",
            "|   Argentina|          AR|2022-08-14 00:00:00|   Films|          4|           Day Shift|                         1|\n",
            "|   Argentina|          AR|2022-08-14 00:00:00|   Films|          5|  Code Name: Emperor|                         1|\n",
            "|   Argentina|          AR|2022-08-14 00:00:00|   Films|          6|              Carter|                         2|\n",
            "|   Argentina|          AR|2022-08-14 00:00:00|   Films|          7|          Recurrence|                         3|\n",
            "|   Argentina|          AR|2022-08-14 00:00:00|   Films|          8|      Wedding Season|                         2|\n",
            "|   Argentina|          AR|2022-08-14 00:00:00|   Films|          9|        Dreamkatcher|                         1|\n",
            "|   Argentina|          AR|2022-08-14 00:00:00|   Films|         10|        The Gray Man|                         4|\n",
            "+------------+------------+-------------------+--------+-----------+--------------------+--------------------------+\n",
            "only showing top 20 rows\n",
            "\n"
          ]
        }
      ],
      "source": [
        "# CodeGrade Tag Ex1c\n",
        "\n",
        "### Drop the 'season_title' column from the Films DataFrame, display the table\n",
        "filmsDF = filmsDF.drop('season_title')\n",
        "\n",
        "filmsDF.show()"
      ]
    },
    {
      "cell_type": "code",
      "execution_count": 12,
      "metadata": {
        "id": "4M83pWB5N9Ar",
        "colab": {
          "base_uri": "https://localhost:8080/"
        },
        "outputId": "ee14221b-6416-4cf8-de1b-d2108a2154a0"
      },
      "outputs": [
        {
          "output_type": "stream",
          "name": "stdout",
          "text": [
            "+------------+------------+-------------------+--------+-----------+--------------------+--------------------+--------------------------+\n",
            "|country_name|country_iso2|               week|category|weekly_rank|          show_title|        season_title|cumulative_weeks_in_top_10|\n",
            "+------------+------------+-------------------+--------+-----------+--------------------+--------------------+--------------------------+\n",
            "|   Argentina|          AR|2022-08-21 00:00:00|      TV|          1| Pasión de Gavilanes|Pasión de Gavilan...|                         5|\n",
            "|   Argentina|          AR|2022-08-21 00:00:00|      TV|          2|        Another Self|Another Self: Sea...|                         4|\n",
            "|   Argentina|          AR|2022-08-21 00:00:00|      TV|          3| Pasión de Gavilanes|Pasión de Gavilan...|                        58|\n",
            "|   Argentina|          AR|2022-08-21 00:00:00|      TV|          4|            Manifest|  Manifest: Season 1|                         6|\n",
            "|   Argentina|          AR|2022-08-21 00:00:00|      TV|          5|         The Sandman|The Sandman: Seas...|                         3|\n",
            "|   Argentina|          AR|2022-08-21 00:00:00|      TV|          6|Extraordinary Att...|Extraordinary Att...|                         2|\n",
            "|   Argentina|          AR|2022-08-21 00:00:00|      TV|          7|           High Heat| High Heat: Season 1|                         1|\n",
            "|   Argentina|          AR|2022-08-21 00:00:00|      TV|          8|            Manifest|  Manifest: Season 2|                         5|\n",
            "|   Argentina|          AR|2022-08-21 00:00:00|      TV|          9|            Manifest|  Manifest: Season 3|                         4|\n",
            "|   Argentina|          AR|2022-08-21 00:00:00|      TV|         10|   Never Have I Ever|Never Have I Ever...|                         2|\n",
            "|   Argentina|          AR|2022-08-14 00:00:00|      TV|          1| Pasión de Gavilanes|Pasión de Gavilan...|                         4|\n",
            "|   Argentina|          AR|2022-08-14 00:00:00|      TV|          2|        Another Self|Another Self: Sea...|                         3|\n",
            "|   Argentina|          AR|2022-08-14 00:00:00|      TV|          3|         The Sandman|The Sandman: Seas...|                         2|\n",
            "|   Argentina|          AR|2022-08-14 00:00:00|      TV|          4| Pasión de Gavilanes|Pasión de Gavilan...|                        57|\n",
            "|   Argentina|          AR|2022-08-14 00:00:00|      TV|          5|            Manifest|  Manifest: Season 1|                         5|\n",
            "|   Argentina|          AR|2022-08-14 00:00:00|      TV|          6|Extraordinary Att...|Extraordinary Att...|                         1|\n",
            "|   Argentina|          AR|2022-08-14 00:00:00|      TV|          7|                Alba|      Alba: Season 1|                         5|\n",
            "|   Argentina|          AR|2022-08-14 00:00:00|      TV|          8|            Manifest|  Manifest: Season 2|                         4|\n",
            "|   Argentina|          AR|2022-08-14 00:00:00|      TV|          9|            Manifest|  Manifest: Season 3|                         3|\n",
            "|   Argentina|          AR|2022-08-14 00:00:00|      TV|         10|   Never Have I Ever|Never Have I Ever...|                         1|\n",
            "+------------+------------+-------------------+--------+-----------+--------------------+--------------------+--------------------------+\n",
            "only showing top 20 rows\n",
            "\n",
            "+------------+\n",
            "|season_title|\n",
            "+------------+\n",
            "|        1128|\n",
            "+------------+\n",
            "\n"
          ]
        }
      ],
      "source": [
        "# CodeGrade Tag Ex1d\n",
        "\n",
        "### Use the F.isnull function to create a column showing where there are null\n",
        "### values in the 'season_title' column. Replace the null values with the\n",
        "### corresponding value from the 'show_title' column, then replace the\n",
        "### 'season_title' column in the tvDF DataFrame.\n",
        "\n",
        "tvDF = tvDF.withColumn('season_title_null', F.isnull(tvDF['season_title']))\n",
        "\n",
        "null_condition = F.isnull(tvDF['season_title'])\n",
        "tvDF = tvDF.withColumn('season_title', F.when(null_condition, tvDF['show_title']).otherwise(tvDF['season_title']))\n",
        "\n",
        "count_season_titles = tvDF.select('season_title').distinct().count()\n",
        "count_df = spark.createDataFrame([(count_season_titles,)], ['season_title'])\n",
        "\n",
        "tvDF=tvDF.drop('season_title_null')\n",
        "tvDF.show()\n",
        "count_df.show()"
      ]
    },
    {
      "cell_type": "markdown",
      "metadata": {
        "id": "rAHZm5_9IzTn"
      },
      "source": [
        "# Exercise 2\n",
        "\n",
        "Making use of the \"groupBy\" and \"where\" methods, find the number of weeks the show \"Stranger Things\" was in the Top 10 for the United Kingdom across all seasons. Store your result in a variable named \"STWeeks\"\n"
      ]
    },
    {
      "cell_type": "code",
      "execution_count": 13,
      "metadata": {
        "id": "68QRfnJsvIdt",
        "colab": {
          "base_uri": "https://localhost:8080/"
        },
        "outputId": "cef178ec-61fc-4200-924a-07b80625766a"
      },
      "outputs": [
        {
          "output_type": "stream",
          "name": "stdout",
          "text": [
            "+--------------+------------+-------------------+--------+-----------+---------------+-----------------+--------------------------+\n",
            "|  country_name|country_iso2|               week|category|weekly_rank|     show_title|     season_title|cumulative_weeks_in_top_10|\n",
            "+--------------+------------+-------------------+--------+-----------+---------------+-----------------+--------------------------+\n",
            "|United Kingdom|          GB|2022-08-21 00:00:00|      TV|          3|Stranger Things|Stranger Things 4|                        13|\n",
            "|United Kingdom|          GB|2022-08-14 00:00:00|      TV|          3|Stranger Things|Stranger Things 4|                        12|\n",
            "|United Kingdom|          GB|2022-08-14 00:00:00|      TV|         10|Stranger Things|Stranger Things 3|                        12|\n",
            "|United Kingdom|          GB|2022-08-07 00:00:00|      TV|          2|Stranger Things|Stranger Things 4|                        11|\n",
            "|United Kingdom|          GB|2022-08-07 00:00:00|      TV|          9|Stranger Things|Stranger Things 3|                        11|\n",
            "|United Kingdom|          GB|2022-08-07 00:00:00|      TV|         10|Stranger Things|Stranger Things 2|                        11|\n",
            "|United Kingdom|          GB|2022-07-31 00:00:00|      TV|          2|Stranger Things|Stranger Things 4|                        10|\n",
            "|United Kingdom|          GB|2022-07-31 00:00:00|      TV|          5|Stranger Things|Stranger Things 3|                        10|\n",
            "|United Kingdom|          GB|2022-07-31 00:00:00|      TV|          6|Stranger Things|Stranger Things 2|                        10|\n",
            "|United Kingdom|          GB|2022-07-31 00:00:00|      TV|          8|Stranger Things|  Stranger Things|                        10|\n",
            "+--------------+------------+-------------------+--------+-----------+---------------+-----------------+--------------------------+\n",
            "only showing top 10 rows\n",
            "\n",
            "+---------------+-------+\n",
            "|     show_title|STWeeks|\n",
            "+---------------+-------+\n",
            "|Stranger Things|     13|\n",
            "+---------------+-------+\n",
            "\n"
          ]
        }
      ],
      "source": [
        "# CodeGrade Tag Ex2\n",
        "### Use the \"where\" method to create a new dataframe containing the data for\n",
        "### the show Stranger Things in the Uniter Kingdom. Call this dataframe STDF.\n",
        "STDF = tvDF.where((tvDF.show_title == \"Stranger Things\") & (tvDF.country_name == \"United Kingdom\"))\n",
        "\n",
        "\n",
        "\n",
        "### Using \"groupBy\" method and \"F.count_distinct\" function, find the total number of weeks\n",
        "### Stranger Things spent in the top 10 of the UK, across all seasons. Show the\n",
        "### result.\n",
        "STWeeks = STDF.groupBy(\"show_title\").agg(F.count_distinct(\"week\").alias(\"STWeeks\"))\n",
        "\n",
        "STDF.show(10)\n",
        "STWeeks.show()\n"
      ]
    },
    {
      "cell_type": "markdown",
      "metadata": {
        "id": "o1i0AYsUzfOl"
      },
      "source": [
        "# Exercise 3\n",
        "\n",
        "Produce a dataframe containing only the Top 25 TV seasons in the UK, based on the number of weeks they spent in the Top 10."
      ]
    },
    {
      "cell_type": "code",
      "execution_count": 14,
      "metadata": {
        "id": "JvD5HHZpSOLM",
        "colab": {
          "base_uri": "https://localhost:8080/"
        },
        "outputId": "8d6a9af8-9742-4d13-f64d-f80db86c7ab3"
      },
      "outputs": [
        {
          "output_type": "stream",
          "name": "stdout",
          "text": [
            "+--------------------+-----------+\n",
            "|        season_title|total_weeks|\n",
            "+--------------------+-----------+\n",
            "|   Stranger Things 4|         13|\n",
            "|     Ozark: Season 4|         12|\n",
            "|   Stranger Things 3|         12|\n",
            "|   Stranger Things 2|         11|\n",
            "|Squid Game: Season 1|         10|\n",
            "|     Stranger Things|         10|\n",
            "|Better Call Saul:...|         10|\n",
            "|Bridgerton: Season 2|          9|\n",
            "|Maid: Limited Series|          9|\n",
            "|PAW Patrol: Season 6|          9|\n",
            "|Inventing Anna: L...|          8|\n",
            "| Money Heist: Part 5|          7|\n",
            "|  Sex/Life: Season 1|          7|\n",
            "|PIECES OF HER: Se...|          7|\n",
            "|Clickbait: Limite...|          6|\n",
            "|Sex Education: Se...|          6|\n",
            "|Virgin River: Sea...|          6|\n",
            "|Young Sheldon: : ...|          6|\n",
            "|Young Sheldon: : ...|          6|\n",
            "|The Lincoln Lawye...|          6|\n",
            "|       You: Season 3|          6|\n",
            "|PAW Patrol: Season 4|          6|\n",
            "|The Umbrella Acad...|          5|\n",
            "|Love Is Blind: Se...|          5|\n",
            "|The Witcher: Seas...|          5|\n",
            "+--------------------+-----------+\n",
            "\n"
          ]
        }
      ],
      "source": [
        "# CodeGrade Tag Ex3\n",
        "### Produce a dataframe containing the top 25 seasons by number of weeks in the\n",
        "### top 10 of the United Kingdom, sorted by number of weeks. Store the dataframe\n",
        "### in a variable called Top25\n",
        "\n",
        "\n",
        "Top25 = tvDF.filter(tvDF['country_name'] == 'United Kingdom')\\\n",
        "       .groupBy('season_title')\\\n",
        "       .agg(F.max('cumulative_weeks_in_top_10').alias('total_weeks'))\\\n",
        "       .orderBy(F.desc('total_weeks'))\\\n",
        "       .limit(25)\n",
        "\n",
        "Top25.show(25)\n"
      ]
    },
    {
      "cell_type": "markdown",
      "metadata": {
        "id": "QSLCobP5Tpmp"
      },
      "source": [
        "# Exercise 4\n",
        "\n",
        "For the show \"Young Sheldon\", find the country where each season spent the most time in the Top 10."
      ]
    },
    {
      "cell_type": "code",
      "execution_count": 15,
      "metadata": {
        "id": "ocBh6iMbkQ0t",
        "colab": {
          "base_uri": "https://localhost:8080/"
        },
        "outputId": "0cc56acb-5c34-4ab5-df77-8a130b7acf1f"
      },
      "outputs": [
        {
          "output_type": "stream",
          "name": "stdout",
          "text": [
            "+-------------------------+-------------------+\n",
            "|season_title             |first(country_name)|\n",
            "+-------------------------+-------------------+\n",
            "|Young Sheldon: : Season 1|Canada             |\n",
            "|Young Sheldon: : Season 2|United Kingdom     |\n",
            "|Young Sheldon: : Season 3|United Kingdom     |\n",
            "|Young Sheldon: Season 4  |New Zealand        |\n",
            "+-------------------------+-------------------+\n",
            "\n"
          ]
        }
      ],
      "source": [
        "# CodeGrade Tag Ex4\n",
        "### For each season of the show \"Young Sheldon\" find the countries where it spent\n",
        "### the most time in the Top 10\n",
        "\n",
        "young_sheldon = tvDF.filter(tvDF[\"show_title\"] == \"Young Sheldon\")\n",
        "\n",
        "max_weeks_per_season_country = (\n",
        "    young_sheldon\n",
        "    .groupBy(\"season_title\", \"country_name\")\n",
        "    .agg(F.max(\"cumulative_weeks_in_top_10\").alias(\"max_weeks_in_top_10\"))\n",
        "    .sort(F.desc(\"max_weeks_in_top_10\"))\n",
        ")\n",
        "\n",
        "max_weeks_country =max_weeks_per_season_country.groupBy(\"season_title\").agg(F.first(\"country_name\").alias(\"first(country_name)\")).orderBy(\"season_title\")\n",
        "max_weeks_country.show(truncate=False)"
      ]
    },
    {
      "cell_type": "markdown",
      "metadata": {
        "id": "aOi5jbLgTupk"
      },
      "source": [
        "# Exercise 5\n",
        "\n",
        "For each country, find the film that spent the most time in the Top 10."
      ]
    },
    {
      "cell_type": "code",
      "execution_count": 24,
      "metadata": {
        "id": "hYz243A8kkNG",
        "colab": {
          "base_uri": "https://localhost:8080/"
        },
        "outputId": "926cf78b-a446-4262-83bb-40e3207154df"
      },
      "outputs": [
        {
          "output_type": "stream",
          "name": "stdout",
          "text": [
            "+------------------+-------------------------------------+\n",
            "|country_name      |show_title                           |\n",
            "+------------------+-------------------------------------+\n",
            "|Argentina         |Sonic the Hedgehog                   |\n",
            "|Australia         |Back to the Outback                  |\n",
            "|Austria           |Harry Potter and the Sorcerer's Stone|\n",
            "|Bahamas           |A Madea Homecoming                   |\n",
            "|Bahrain           |Red Notice                           |\n",
            "|Bangladesh        |Sooryavanshi                         |\n",
            "|Belgium           |The Adam Project                     |\n",
            "|Bolivia           |Shrek                                |\n",
            "|Brazil            |Hotel Transylvania 3: Summer Vacation|\n",
            "|Bulgaria          |Red Notice                           |\n",
            "|Canada            |The Adam Project                     |\n",
            "|Chile             |Sonic the Hedgehog                   |\n",
            "|Colombia          |Red Notice                           |\n",
            "|Costa Rica        |Sonic the Hedgehog                   |\n",
            "|Croatia           |Red Notice                           |\n",
            "|Cyprus            |Red Notice                           |\n",
            "|Czech Republic    |Bet on Friendship                    |\n",
            "|Denmark           |Red Notice                           |\n",
            "|Dominican Republic|Red Notice                           |\n",
            "|Ecuador           |Red Notice                           |\n",
            "+------------------+-------------------------------------+\n",
            "only showing top 20 rows\n",
            "\n"
          ]
        }
      ],
      "source": [
        "# CodeGrade Tag Ex5\n",
        "### For each country, find the film that spent the most time in the Top 10\n",
        "### Display the results in a Dataframe ordered by country name.\n",
        "\n",
        "filtered_films = netflixDF.filter(netflixDF['category'] == 'Films')\n",
        "\n",
        "maxweeks = filtered_films.groupBy('country_name').agg(\n",
        "    F.max('cumulative_weeks_in_top_10').alias('max_weeks'),\n",
        "    F.sum('cumulative_weeks_in_top_10').alias('sum_weeks')\n",
        ")\n",
        "\n",
        "alias = filtered_films.alias('films')\n",
        "max_weeks_alias = maxweeks.alias('max_weeks')\n",
        "\n",
        "result_films = alias.join(\n",
        "    max_weeks_alias,\n",
        "    (alias['country_name'] == max_weeks_alias['country_name']) &(alias['cumulative_weeks_in_top_10'] == max_weeks_alias['max_weeks']),\n",
        "    'inner').select(alias['country_name'], alias['show_title'], alias['cumulative_weeks_in_top_10'])\n",
        "\n",
        "result_films = result_films.dropDuplicates(['country_name'])\n",
        "result_films.select('country_name','show_title').show(20,truncate=False)\n",
        "result_films = result_films.sort('cumulative_weeks_in_top_10', ascending=False)\n"
      ]
    },
    {
      "cell_type": "markdown",
      "metadata": {
        "id": "_YOKr4khadrB"
      },
      "source": [
        "# Exercise 6\n",
        "\n",
        "Calculate the number of weeks each film spent at the number 1 spot of each country's Top 10 list. Then find the films that spent the most time in the number 1 spot for each country."
      ]
    },
    {
      "cell_type": "code",
      "execution_count": 25,
      "metadata": {
        "id": "T4KuEbwgbJar",
        "colab": {
          "base_uri": "https://localhost:8080/"
        },
        "outputId": "8f1a1174-1cd5-479a-add4-f0b8aa1984f6"
      },
      "outputs": [
        {
          "output_type": "stream",
          "name": "stdout",
          "text": [
            "+--------------------+-----------+----------+\n",
            "|          show_title|weekly_rank|weeks_at_1|\n",
            "+--------------------+-----------+----------+\n",
            "|      Look Both Ways|          1|         1|\n",
            "|           Day Shift|          2|         0|\n",
            "|Bank Robbers: The...|          3|         0|\n",
            "|   The Next 365 Days|          4|         0|\n",
            "|The Angry Birds M...|          5|         0|\n",
            "|       Purple Hearts|          6|         0|\n",
            "|      River Runs Red|          7|         0|\n",
            "|                1917|          8|         0|\n",
            "|  Code Name: Emperor|          9|         0|\n",
            "|           Royalteen|         10|         0|\n",
            "| Pasión de Gavilanes|          1|         1|\n",
            "|        Another Self|          2|         0|\n",
            "| Pasión de Gavilanes|          3|         0|\n",
            "|            Manifest|          4|         0|\n",
            "|         The Sandman|          5|         0|\n",
            "|Extraordinary Att...|          6|         0|\n",
            "|           High Heat|          7|         0|\n",
            "|            Manifest|          8|         0|\n",
            "|            Manifest|          9|         0|\n",
            "|   Never Have I Ever|         10|         0|\n",
            "+--------------------+-----------+----------+\n",
            "only showing top 20 rows\n",
            "\n"
          ]
        }
      ],
      "source": [
        "# CodeGrade Tag Ex6a\n",
        "\n",
        "### Create a column using the F.when function to calculate the number of weeks a\n",
        "### films spens in the number 1 spot of the Top 10. Use the .otherwise method to\n",
        "### set rows with no number 1 spots to zero. Use the .alias metod to call this\n",
        "### column \"weeks_at_1\"\n",
        "\n",
        "netflixDF = netflixDF.withColumn(\n",
        "    \"weeks_at_1\",\n",
        "    F.when(F.col(\"weekly_rank\") == 1, 1).otherwise(0)\n",
        ").alias(\"weeks_at_1\")\n",
        "\n",
        "# Show the resulting DataFrame\n",
        "netflixDF.select(\"show_title\", \"weekly_rank\", \"weeks_at_1\").show()"
      ]
    },
    {
      "cell_type": "code",
      "execution_count": 24,
      "metadata": {
        "id": "3bmaFJryC5ub",
        "colab": {
          "base_uri": "https://localhost:8080/"
        },
        "outputId": "2371fc93-2acb-48d6-c54d-b4ec8ebfca3e"
      },
      "outputs": [
        {
          "output_type": "stream",
          "name": "stdout",
          "text": [
            "+------------------+--------------------+----------------+\n",
            "|      country_name|          show_title|total_weeks_at_1|\n",
            "+------------------+--------------------+----------------+\n",
            "|          Colombia|Newly Rich, Newly...|              18|\n",
            "|           Bolivia|Yo soy Betty, la fea|              17|\n",
            "|         Venezuela|Café con aroma de...|              13|\n",
            "|       El Salvador|Café con aroma de...|              13|\n",
            "|          Honduras|   Pedro el escamoso|              12|\n",
            "|       El Salvador|   Pedro el escamoso|              12|\n",
            "|         Guatemala|   Pedro el escamoso|              12|\n",
            "|         Argentina|Café con aroma de...|              12|\n",
            "|          Honduras|Café con aroma de...|              12|\n",
            "|Dominican Republic|Café con aroma de...|              12|\n",
            "|         Nicaragua|   Pedro el escamoso|              12|\n",
            "|         Nicaragua|Café con aroma de...|              12|\n",
            "|             Chile|Café con aroma de...|              11|\n",
            "|         Guatemala|Café con aroma de...|              11|\n",
            "|           Ecuador|Café con aroma de...|              11|\n",
            "|        Costa Rica|Café con aroma de...|              11|\n",
            "|          Paraguay|Café con aroma de...|              11|\n",
            "|             Spain|Café con aroma de...|              11|\n",
            "|           Uruguay|Café con aroma de...|              10|\n",
            "|            Panama|Café con aroma de...|              10|\n",
            "+------------------+--------------------+----------------+\n",
            "only showing top 20 rows\n",
            "\n"
          ]
        }
      ],
      "source": [
        " # CodeGrade Tag Ex6b\n",
        "\n",
        "### Group by country name and sow title, and use the .agg method and your new\n",
        "### column to find the number of weeks each film spent in the top spot for each\n",
        "### country.\n",
        "\n",
        "result_df = netflixDF.groupBy(\"country_name\", \"show_title\").agg(\n",
        "    F.sum(\"weeks_at_1\").alias(\"total_weeks_at_1\")\n",
        ").sort(F.desc(\"total_weeks_at_1\"))\n",
        "\n",
        "result_df.show()"
      ]
    },
    {
      "cell_type": "code",
      "source": [
        "# CodeGrade Tag Ex6c\n",
        "\n",
        "### Produce a dataframe grouped by country name that contains the show title and\n",
        "### number of weeks at the number 1 spot of the top performing film in each\n",
        "### country.\n",
        "\n",
        "top_df = netflixDF.groupBy(\"country_name\", \"show_title\").agg(\n",
        "    F.sum(\"weeks_at_1\").alias(\"total_weeks_at_1\")\n",
        ")\n",
        "\n",
        "result_df = top_df.groupBy(\"country_name\").agg(\n",
        "    F.first(\"show_title\").alias(\"show_title\"),\n",
        "    F.max(\"total_weeks_at_1\").alias(\"total_weeks_at_1\")\n",
        ")\n",
        "\n",
        "result_df.show()"
      ],
      "metadata": {
        "id": "9apP6VYfTBU-",
        "colab": {
          "base_uri": "https://localhost:8080/"
        },
        "outputId": "fc7ea523-6aca-4a0e-cba5-e030bb1f937c"
      },
      "execution_count": 25,
      "outputs": [
        {
          "output_type": "stream",
          "name": "stdout",
          "text": [
            "+------------------+--------------------+----------------+\n",
            "|      country_name|          show_title|total_weeks_at_1|\n",
            "+------------------+--------------------+----------------+\n",
            "|         Argentina|       In Good Hands|              12|\n",
            "|         Australia|           Bloodshot|               7|\n",
            "|           Austria|            For Life|               7|\n",
            "|           Bahamas|        Virgin River|               4|\n",
            "|           Bahrain|          Spiderhead|               8|\n",
            "|        Bangladesh|             Nikamma|               8|\n",
            "|           Belgium|        Heart Parade|               7|\n",
            "|           Bolivia|Men in Black: Int...|              17|\n",
            "|            Brazil|Cúmplices de um R...|               7|\n",
            "|          Bulgaria|G.I. Joe: The Ris...|               9|\n",
            "|            Canada|   Indecent Proposal|               7|\n",
            "|             Chile|            Intimacy|              11|\n",
            "|          Colombia|               Lulli|              18|\n",
            "|        Costa Rica|  Dangerous Liaisons|              11|\n",
            "|           Croatia|              Hustle|               9|\n",
            "|            Cyprus|           Bumblebee|               8|\n",
            "|    Czech Republic|Love, Death & Robots|               9|\n",
            "|           Denmark|        The Gray Man|               7|\n",
            "|Dominican Republic|           Day Shift|              12|\n",
            "|           Ecuador|         Rebelde Way|              11|\n",
            "+------------------+--------------------+----------------+\n",
            "only showing top 20 rows\n",
            "\n"
          ]
        }
      ]
    }
  ],
  "metadata": {
    "colab": {
      "provenance": [],
      "gpuType": "T4"
    },
    "kernelspec": {
      "display_name": "Python 3",
      "name": "python3"
    },
    "language_info": {
      "name": "python"
    },
    "accelerator": "GPU"
  },
  "nbformat": 4,
  "nbformat_minor": 0
}
